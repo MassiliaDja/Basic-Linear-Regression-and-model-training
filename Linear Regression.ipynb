{
 "cells": [
  {
   "cell_type": "code",
   "execution_count": 119,
   "metadata": {},
   "outputs": [],
   "source": [
    "import numpy as np\n",
    "import pandas as pd\n",
    "#from sklearn.datasets import make_regression\n",
    "import matplotlib.pyplot as mp"
   ]
  },
  {
   "cell_type": "code",
   "execution_count": 120,
   "metadata": {},
   "outputs": [
    {
     "data": {
      "text/plain": [
       "<matplotlib.collections.PathCollection at 0x2650ca402b0>"
      ]
     },
     "execution_count": 120,
     "metadata": {},
     "output_type": "execute_result"
    },
    {
     "data": {
      "image/png": "[encoded data removed]",
      "text/plain": [
       "<Figure size 432x288 with 1 Axes>"
      ]
     },
     "metadata": {
      "needs_background": "light"
     },
     "output_type": "display_data"
    }
   ],
   "source": [
    "#dataset imported\n",
    "#im= pd.read_csv('sp_data.csv')\n",
    "#x = im['surface']\n",
    "#y= im['prix']\n",
    "\n",
    "\n",
    "#dataset from sklearn\n",
    "x, y = make_regression (n_samples=200, n_features=1, noise = 80)\n",
    "mp.scatter(x, y)\n"
   ]
  },
  {
   "cell_type": "code",
   "execution_count": 121,
   "metadata": {},
   "outputs": [],
   "source": [
    "#reshape y to fit shape of x\n",
    "y=y.reshape(y.shape[0],1)\n",
    "\n",
    "#add labels 1 to matrix x\n",
    "X= np.hstack((x, np.ones(x.shape)))\n"
   ]
  },
  {
   "cell_type": "code",
   "execution_count": 122,
   "metadata": {},
   "outputs": [
    {
     "name": "stdout",
     "output_type": "stream",
     "text": [
      "(200, 1)\n"
     ]
    },
    {
     "data": {
      "text/plain": [
       "(200, 2)"
      ]
     },
     "execution_count": 122,
     "metadata": {},
     "output_type": "execute_result"
    }
   ],
   "source": [
    "X= np.hstack((x, np.ones(x.shape)))\n",
    "\n",
    "print(y.shape)\n",
    "X.shape"
   ]
  },
  {
   "cell_type": "code",
   "execution_count": 123,
   "metadata": {},
   "outputs": [
    {
     "data": {
      "text/plain": [
       "array([[0.55641814],\n",
       "       [1.5886557 ]])"
      ]
     },
     "execution_count": 123,
     "metadata": {},
     "output_type": "execute_result"
    }
   ],
   "source": [
    "T= np.random.randn (2, 1)\n",
    "T"
   ]
  },
  {
   "cell_type": "code",
   "execution_count": 124,
   "metadata": {},
   "outputs": [],
   "source": [
    "#model from the course which returns matricial product of X and T\n",
    "def md (X, T):\n",
    "    return X.dot(T)"
   ]
  },
  {
   "cell_type": "code",
   "execution_count": 127,
   "metadata": {},
   "outputs": [
    {
     "data": {
      "text/plain": [
       "3620926.040551925"
      ]
     },
     "execution_count": 127,
     "metadata": {},
     "output_type": "execute_result"
    }
   ],
   "source": [
    "#mp.scatter(x,y)\n",
    "#mp.plot(x, md(X, T))\n",
    "\n",
    "#Formula from the course for the cost function\n",
    "\n",
    "def gr(X,y,T):\n",
    "    m= y.size\n",
    "    return(1/m * X.T.dot(md(X,T)- y))\n",
    "\n",
    "def dgr(X,y,T, learnin_rt, n_it ):\n",
    "    for i in range(0, n_it):\n",
    "        T= T - learnin_rt * gr(X, y, T)\n",
    "    return (T)\n",
    "\n",
    "def cf (X, y, T):\n",
    "    m= y.size \n",
    "    return (( 1/2*m * np.sum (md(X, T) - y) **2))\n",
    "\n",
    "cf (X, y, T)"
   ]
  },
  {
   "cell_type": "code",
   "execution_count": 140,
   "metadata": {},
   "outputs": [
    {
     "data": {
      "text/plain": [
       "array([[8.73243738],\n",
       "       [2.70314596]])"
      ]
     },
     "execution_count": 140,
     "metadata": {},
     "output_type": "execute_result"
    }
   ],
   "source": [
    "T_final = dgr (X, y, T, learnin_rt= 0.001 , n_it = 1000)\n",
    "T_final\n"
   ]
  },
  {
   "cell_type": "code",
   "execution_count": 141,
   "metadata": {},
   "outputs": [
    {
     "data": {
      "text/plain": [
       "[<matplotlib.lines.Line2D at 0x2650cf06f70>,\n",
       " <matplotlib.lines.Line2D at 0x2650cf130a0>]"
      ]
     },
     "execution_count": 141,
     "metadata": {},
     "output_type": "execute_result"
    },
    {
     "data": {
      "image/png": "[encoded data removed]",
      "text/plain": [
       "<Figure size 432x288 with 1 Axes>"
      ]
     },
     "metadata": {
      "needs_background": "light"
     },
     "output_type": "display_data"
    }
   ],
   "source": [
    "pred = md(X, T_final)\n",
    "mp.scatter(x,y)\n",
    "mp.plot(X, pred)\n"
   ]
  },
  {
   "cell_type": "code",
   "execution_count": null,
   "metadata": {},
   "outputs": [],
   "source": []
  }
 ],
 "metadata": {
  "kernelspec": {
   "display_name": "Python 3",
   "language": "python",
   "name": "python3"
  },
  "language_info": {
   "codemirror_mode": {
    "name": "ipython",
    "version": 3
   },
   "file_extension": ".py",
   "mimetype": "text/x-python",
   "name": "python",
   "nbconvert_exporter": "python",
   "pygments_lexer": "ipython3",
   "version": "3.8.3"
  }
 },
 "nbformat": 4,
 "nbformat_minor": 4
}
